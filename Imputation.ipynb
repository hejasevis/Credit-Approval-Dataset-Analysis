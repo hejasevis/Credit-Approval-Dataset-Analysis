{
  "cells": [
    {
      "cell_type": "markdown",
      "metadata": {
        "id": "view-in-github",
        "colab_type": "text"
      },
      "source": [
        "<a href=\"https://colab.research.google.com/github/hejasevis/Credit-Approval-Dataset-Analysis/blob/main/Imputation.ipynb\" target=\"_parent\"><img src=\"https://colab.research.google.com/assets/colab-badge.svg\" alt=\"Open In Colab\"/></a>"
      ]
    },
    {
      "cell_type": "code",
      "source": [
        "# Install UCIMLRepo\n",
        "!pip install ucimlrepo\n",
        "\n",
        "from ucimlrepo import fetch_ucirepo\n",
        "\n",
        "# Dataset\n",
        "credit_approval = fetch_ucirepo(id=27)\n",
        "\n",
        "# Separate data\n",
        "X = credit_approval.data.features\n",
        "y = credit_approval.data.targets\n",
        "\n",
        "# Metadata and variable information\n",
        "print(credit_approval.metadata)\n",
        "print(credit_approval.variables)\n",
        "\n",
        "# Check for missing values\n",
        "print(X.isnull().sum())\n"
      ],
      "metadata": {
        "id": "c7eXWKT0w81Y",
        "colab": {
          "base_uri": "https://localhost:8080/"
        },
        "outputId": "69de49f3-db3d-468f-ed60-5651523f4179",
        "collapsed": true
      },
      "execution_count": 1,
      "outputs": [
        {
          "output_type": "stream",
          "name": "stdout",
          "text": [
            "Collecting ucimlrepo\n",
            "  Downloading ucimlrepo-0.0.7-py3-none-any.whl.metadata (5.5 kB)\n",
            "Requirement already satisfied: pandas>=1.0.0 in /usr/local/lib/python3.11/dist-packages (from ucimlrepo) (2.2.2)\n",
            "Requirement already satisfied: certifi>=2020.12.5 in /usr/local/lib/python3.11/dist-packages (from ucimlrepo) (2025.1.31)\n",
            "Requirement already satisfied: numpy>=1.23.2 in /usr/local/lib/python3.11/dist-packages (from pandas>=1.0.0->ucimlrepo) (1.26.4)\n",
            "Requirement already satisfied: python-dateutil>=2.8.2 in /usr/local/lib/python3.11/dist-packages (from pandas>=1.0.0->ucimlrepo) (2.8.2)\n",
            "Requirement already satisfied: pytz>=2020.1 in /usr/local/lib/python3.11/dist-packages (from pandas>=1.0.0->ucimlrepo) (2025.1)\n",
            "Requirement already satisfied: tzdata>=2022.7 in /usr/local/lib/python3.11/dist-packages (from pandas>=1.0.0->ucimlrepo) (2025.1)\n",
            "Requirement already satisfied: six>=1.5 in /usr/local/lib/python3.11/dist-packages (from python-dateutil>=2.8.2->pandas>=1.0.0->ucimlrepo) (1.17.0)\n",
            "Downloading ucimlrepo-0.0.7-py3-none-any.whl (8.0 kB)\n",
            "Installing collected packages: ucimlrepo\n",
            "Successfully installed ucimlrepo-0.0.7\n",
            "{'uci_id': 27, 'name': 'Credit Approval', 'repository_url': 'https://archive.ics.uci.edu/dataset/27/credit+approval', 'data_url': 'https://archive.ics.uci.edu/static/public/27/data.csv', 'abstract': 'This data concerns credit card applications; good mix of attributes', 'area': 'Business', 'tasks': ['Classification'], 'characteristics': ['Multivariate'], 'num_instances': 690, 'num_features': 15, 'feature_types': ['Categorical', 'Integer', 'Real'], 'demographics': [], 'target_col': ['A16'], 'index_col': None, 'has_missing_values': 'yes', 'missing_values_symbol': 'NaN', 'year_of_dataset_creation': 1987, 'last_updated': 'Wed Aug 23 2023', 'dataset_doi': '10.24432/C5FS30', 'creators': ['J. R. Quinlan'], 'intro_paper': None, 'additional_info': {'summary': 'This file concerns credit card applications.  All attribute names and values have been changed to meaningless symbols to protect confidentiality of the data.\\r\\n  \\r\\nThis dataset is interesting because there is a good mix of attributes -- continuous, nominal with small numbers of values, and nominal with larger numbers of values.  There are also a few missing values.', 'purpose': None, 'funded_by': None, 'instances_represent': None, 'recommended_data_splits': None, 'sensitive_data': None, 'preprocessing_description': None, 'variable_info': 'A1:\\tb, a.\\r\\nA2:\\tcontinuous.\\r\\nA3:\\tcontinuous.\\r\\nA4:\\tu, y, l, t.\\r\\nA5:\\tg, p, gg.\\r\\nA6:\\tc, d, cc, i, j, k, m, r, q, w, x, e, aa, ff.\\r\\nA7:\\tv, h, bb, j, n, z, dd, ff, o.\\r\\nA8:\\tcontinuous.\\r\\nA9:\\tt, f.\\r\\nA10:\\tt, f.\\r\\nA11:\\tcontinuous.\\r\\nA12:\\tt, f.\\r\\nA13:\\tg, p, s.\\r\\nA14:\\tcontinuous.\\r\\nA15:\\tcontinuous.\\r\\nA16: +,-         (class attribute)', 'citation': None}}\n",
            "   name     role         type demographic description units missing_values\n",
            "0   A16   Target  Categorical        None        None  None             no\n",
            "1   A15  Feature   Continuous        None        None  None             no\n",
            "2   A14  Feature   Continuous        None        None  None            yes\n",
            "3   A13  Feature  Categorical        None        None  None             no\n",
            "4   A12  Feature  Categorical        None        None  None             no\n",
            "5   A11  Feature   Continuous        None        None  None             no\n",
            "6   A10  Feature  Categorical        None        None  None             no\n",
            "7    A9  Feature  Categorical        None        None  None             no\n",
            "8    A8  Feature   Continuous        None        None  None             no\n",
            "9    A7  Feature  Categorical        None        None  None            yes\n",
            "10   A6  Feature  Categorical        None        None  None            yes\n",
            "11   A5  Feature  Categorical        None        None  None            yes\n",
            "12   A4  Feature  Categorical        None        None  None            yes\n",
            "13   A3  Feature   Continuous        None        None  None             no\n",
            "14   A2  Feature   Continuous        None        None  None            yes\n",
            "15   A1  Feature  Categorical        None        None  None            yes\n",
            "A15     0\n",
            "A14    13\n",
            "A13     0\n",
            "A12     0\n",
            "A11     0\n",
            "A10     0\n",
            "A9      0\n",
            "A8      0\n",
            "A7      9\n",
            "A6      9\n",
            "A5      6\n",
            "A4      6\n",
            "A3      0\n",
            "A2     12\n",
            "A1     12\n",
            "dtype: int64\n"
          ]
        }
      ]
    },
    {
      "cell_type": "code",
      "source": [
        "# Separate numeric and categorical columns\n",
        "numeric_columns = X.select_dtypes(include=['int64', 'float64']).columns\n",
        "categorical_columns = X.select_dtypes(exclude=['int64', 'float64']).columns\n",
        "\n",
        "print(\"Sayısal Sütunlar:\", numeric_columns)\n",
        "print(\"Kategorik Sütunlar:\", categorical_columns)"
      ],
      "metadata": {
        "colab": {
          "base_uri": "https://localhost:8080/"
        },
        "id": "zbbmPDPqyVb8",
        "outputId": "8d38bffe-7a35-4633-ec4d-2cbe98c4bbef"
      },
      "execution_count": 2,
      "outputs": [
        {
          "output_type": "stream",
          "name": "stdout",
          "text": [
            "Sayısal Sütunlar: Index(['A15', 'A14', 'A11', 'A8', 'A3', 'A2'], dtype='object')\n",
            "Kategorik Sütunlar: Index(['A13', 'A12', 'A10', 'A9', 'A7', 'A6', 'A5', 'A4', 'A1'], dtype='object')\n"
          ]
        }
      ]
    },
    {
      "cell_type": "code",
      "source": [
        "from sklearn.impute import SimpleImputer\n",
        "import pandas as pd\n",
        "\n",
        "# For numeric columns only\n",
        "mean_imputer = SimpleImputer(strategy='mean')\n",
        "X_numeric_mean_imputed = pd.DataFrame(mean_imputer.fit_transform(X[numeric_columns]), columns=numeric_columns)\n",
        "\n",
        "# Add back categorical data\n",
        "X_mean_imputed = pd.concat([X_numeric_mean_imputed, X[categorical_columns]], axis=1)\n",
        "\n",
        "print(X_mean_imputed.head())"
      ],
      "metadata": {
        "colab": {
          "base_uri": "https://localhost:8080/"
        },
        "id": "9tkK71lxyt5B",
        "outputId": "f57b4d96-a6d0-48a7-9173-b349f14b15d7"
      },
      "execution_count": 3,
      "outputs": [
        {
          "output_type": "stream",
          "name": "stdout",
          "text": [
            "     A15    A14  A11    A8     A3     A2 A13 A12 A10 A9 A7 A6 A5 A4 A1\n",
            "0    0.0  202.0  1.0  1.25  0.000  30.83   g   f   t  t  v  w  g  u  b\n",
            "1  560.0   43.0  6.0  3.04  4.460  58.67   g   f   t  t  h  q  g  u  a\n",
            "2  824.0  280.0  0.0  1.50  0.500  24.50   g   f   f  t  h  q  g  u  a\n",
            "3    3.0  100.0  5.0  3.75  1.540  27.83   g   t   t  t  v  w  g  u  b\n",
            "4    0.0  120.0  0.0  1.71  5.625  20.17   s   f   f  t  v  w  g  u  b\n"
          ]
        }
      ]
    },
    {
      "cell_type": "code",
      "source": [
        "# For numeric columns only\n",
        "median_imputer = SimpleImputer(strategy='median')\n",
        "X_numeric_median_imputed = pd.DataFrame(median_imputer.fit_transform(X[numeric_columns]), columns=numeric_columns)\n",
        "\n",
        "# Add back categorical data\n",
        "X_median_imputed = pd.concat([X_numeric_median_imputed, X[categorical_columns]], axis=1)\n",
        "\n",
        "print(X_median_imputed.head())"
      ],
      "metadata": {
        "colab": {
          "base_uri": "https://localhost:8080/"
        },
        "id": "RhHWsK1Vy2O5",
        "outputId": "4e3c2f7c-37b3-4ccf-a732-033f122c0833"
      },
      "execution_count": 4,
      "outputs": [
        {
          "output_type": "stream",
          "name": "stdout",
          "text": [
            "     A15    A14  A11    A8     A3     A2 A13 A12 A10 A9 A7 A6 A5 A4 A1\n",
            "0    0.0  202.0  1.0  1.25  0.000  30.83   g   f   t  t  v  w  g  u  b\n",
            "1  560.0   43.0  6.0  3.04  4.460  58.67   g   f   t  t  h  q  g  u  a\n",
            "2  824.0  280.0  0.0  1.50  0.500  24.50   g   f   f  t  h  q  g  u  a\n",
            "3    3.0  100.0  5.0  3.75  1.540  27.83   g   t   t  t  v  w  g  u  b\n",
            "4    0.0  120.0  0.0  1.71  5.625  20.17   s   f   f  t  v  w  g  u  b\n"
          ]
        }
      ]
    },
    {
      "cell_type": "code",
      "source": [
        "from sklearn.impute import KNNImputer\n",
        "\n",
        "# For numeric columns only\n",
        "knn_imputer = KNNImputer(n_neighbors=5)\n",
        "X_numeric_knn_imputed = pd.DataFrame(knn_imputer.fit_transform(X[numeric_columns]), columns=numeric_columns)\n",
        "\n",
        "# Add back categorical data\n",
        "X_knn_imputed = pd.concat([X_numeric_knn_imputed, X[categorical_columns]], axis=1)\n",
        "\n",
        "print(X_knn_imputed.head())"
      ],
      "metadata": {
        "colab": {
          "base_uri": "https://localhost:8080/"
        },
        "id": "ZksF_pzry7pc",
        "outputId": "70cef645-56ea-47fb-e717-72c30c1134a6"
      },
      "execution_count": 5,
      "outputs": [
        {
          "output_type": "stream",
          "name": "stdout",
          "text": [
            "     A15    A14  A11    A8     A3     A2 A13 A12 A10 A9 A7 A6 A5 A4 A1\n",
            "0    0.0  202.0  1.0  1.25  0.000  30.83   g   f   t  t  v  w  g  u  b\n",
            "1  560.0   43.0  6.0  3.04  4.460  58.67   g   f   t  t  h  q  g  u  a\n",
            "2  824.0  280.0  0.0  1.50  0.500  24.50   g   f   f  t  h  q  g  u  a\n",
            "3    3.0  100.0  5.0  3.75  1.540  27.83   g   t   t  t  v  w  g  u  b\n",
            "4    0.0  120.0  0.0  1.71  5.625  20.17   s   f   f  t  v  w  g  u  b\n"
          ]
        }
      ]
    },
    {
      "cell_type": "code",
      "source": [
        "# Apply mode imputation to categorical columns\n",
        "mode_imputer = SimpleImputer(strategy='most_frequent')\n",
        "X_categorical_mode_imputed = pd.DataFrame(mode_imputer.fit_transform(X[categorical_columns]), columns=categorical_columns)\n",
        "\n",
        "# Combine numerical and categorical data\n",
        "X_final_imputed = pd.concat([X_numeric_knn_imputed, X_categorical_mode_imputed], axis=1)\n",
        "\n",
        "print(X_final_imputed.head())\n"
      ],
      "metadata": {
        "colab": {
          "base_uri": "https://localhost:8080/"
        },
        "id": "l0cDTwGczEzA",
        "outputId": "a00fdc1b-f4c0-4eff-d46b-ec4ea832dc07"
      },
      "execution_count": 6,
      "outputs": [
        {
          "output_type": "stream",
          "name": "stdout",
          "text": [
            "     A15    A14  A11    A8     A3     A2 A13 A12 A10 A9 A7 A6 A5 A4 A1\n",
            "0    0.0  202.0  1.0  1.25  0.000  30.83   g   f   t  t  v  w  g  u  b\n",
            "1  560.0   43.0  6.0  3.04  4.460  58.67   g   f   t  t  h  q  g  u  a\n",
            "2  824.0  280.0  0.0  1.50  0.500  24.50   g   f   f  t  h  q  g  u  a\n",
            "3    3.0  100.0  5.0  3.75  1.540  27.83   g   t   t  t  v  w  g  u  b\n",
            "4    0.0  120.0  0.0  1.71  5.625  20.17   s   f   f  t  v  w  g  u  b\n"
          ]
        }
      ]
    },
    {
      "cell_type": "code",
      "source": [
        "from sklearn.impute import SimpleImputer\n",
        "\n",
        "# Mode imputation\n",
        "mode_imputer = SimpleImputer(strategy='most_frequent')\n",
        "X_mode_imputed = pd.DataFrame(mode_imputer.fit_transform(X), columns=X.columns)\n",
        "\n",
        "print(X_mode_imputed.head())\n"
      ],
      "metadata": {
        "colab": {
          "base_uri": "https://localhost:8080/"
        },
        "id": "cnjKg_DUxwY_",
        "outputId": "ab161100-3cfd-47e3-8dae-ba96ded41d1e"
      },
      "execution_count": 7,
      "outputs": [
        {
          "output_type": "stream",
          "name": "stdout",
          "text": [
            "   A15    A14 A13 A12 A11 A10 A9    A8 A7 A6 A5 A4     A3     A2 A1\n",
            "0    0  202.0   g   f   1   t  t  1.25  v  w  g  u    0.0  30.83  b\n",
            "1  560   43.0   g   f   6   t  t  3.04  h  q  g  u   4.46  58.67  a\n",
            "2  824  280.0   g   f   0   f  t   1.5  h  q  g  u    0.5   24.5  a\n",
            "3    3  100.0   g   t   5   t  t  3.75  v  w  g  u   1.54  27.83  b\n",
            "4    0  120.0   s   f   0   f  t  1.71  v  w  g  u  5.625  20.17  b\n"
          ]
        }
      ]
    }
  ],
  "metadata": {
    "colab": {
      "provenance": [],
      "authorship_tag": "ABX9TyNHxiZLNC8wGyXxUH872GUV",
      "include_colab_link": true
    },
    "kernelspec": {
      "display_name": "Python 3",
      "name": "python3"
    },
    "language_info": {
      "name": "python"
    }
  },
  "nbformat": 4,
  "nbformat_minor": 0
}